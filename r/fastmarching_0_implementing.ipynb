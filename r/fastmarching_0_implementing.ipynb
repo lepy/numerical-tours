{
 "cells": [
  {
   "cell_type": "markdown",
   "metadata": {
    "deletable": true,
    "editable": true
   },
   "source": [
    "Dijkstra and Fast Marching Algorithms\n",
    "=====================================\n",
    "$\\newcommand{\\dotp}[2]{\\langle #1, #2 \\rangle}$\n",
    "$\\newcommand{\\enscond}[2]{\\lbrace #1, #2 \\rbrace}$\n",
    "$\\newcommand{\\pd}[2]{ \\frac{ \\partial #1}{\\partial #2} }$\n",
    "$\\newcommand{\\umin}[1]{\\underset{#1}{\\min}\\;}$\n",
    "$\\newcommand{\\umax}[1]{\\underset{#1}{\\max}\\;}$\n",
    "$\\newcommand{\\umin}[1]{\\underset{#1}{\\min}\\;}$\n",
    "$\\newcommand{\\uargmin}[1]{\\underset{#1}{argmin}\\;}$\n",
    "$\\newcommand{\\norm}[1]{\\|#1\\|}$\n",
    "$\\newcommand{\\abs}[1]{\\left|#1\\right|}$\n",
    "$\\newcommand{\\choice}[1]{ \\left\\{  \\begin{array}{l} #1 \\end{array} \\right. }$\n",
    "$\\newcommand{\\pa}[1]{\\left(#1\\right)}$\n",
    "$\\newcommand{\\diag}[1]{{diag}\\left( #1 \\right)}$\n",
    "$\\newcommand{\\qandq}{\\quad\\text{and}\\quad}$\n",
    "$\\newcommand{\\qwhereq}{\\quad\\text{where}\\quad}$\n",
    "$\\newcommand{\\qifq}{ \\quad \\text{if} \\quad }$\n",
    "$\\newcommand{\\qarrq}{ \\quad \\Longrightarrow \\quad }$\n",
    "$\\newcommand{\\ZZ}{\\mathbb{Z}}$\n",
    "$\\newcommand{\\CC}{\\mathbb{C}}$\n",
    "$\\newcommand{\\RR}{\\mathbb{R}}$\n",
    "$\\newcommand{\\EE}{\\mathbb{E}}$\n",
    "$\\newcommand{\\Zz}{\\mathcal{Z}}$\n",
    "$\\newcommand{\\Ww}{\\mathcal{W}}$\n",
    "$\\newcommand{\\Vv}{\\mathcal{V}}$\n",
    "$\\newcommand{\\Nn}{\\mathcal{N}}$\n",
    "$\\newcommand{\\NN}{\\mathcal{N}}$\n",
    "$\\newcommand{\\Hh}{\\mathcal{H}}$\n",
    "$\\newcommand{\\Bb}{\\mathcal{B}}$\n",
    "$\\newcommand{\\Ee}{\\mathcal{E}}$\n",
    "$\\newcommand{\\Cc}{\\mathcal{C}}$\n",
    "$\\newcommand{\\Gg}{\\mathcal{G}}$\n",
    "$\\newcommand{\\Ss}{\\mathcal{S}}$\n",
    "$\\newcommand{\\Pp}{\\mathcal{P}}$\n",
    "$\\newcommand{\\Ff}{\\mathcal{F}}$\n",
    "$\\newcommand{\\Xx}{\\mathcal{X}}$\n",
    "$\\newcommand{\\Mm}{\\mathcal{M}}$\n",
    "$\\newcommand{\\Ii}{\\mathcal{I}}$\n",
    "$\\newcommand{\\Dd}{\\mathcal{D}}$\n",
    "$\\newcommand{\\Ll}{\\mathcal{L}}$\n",
    "$\\newcommand{\\Tt}{\\mathcal{T}}$\n",
    "$\\newcommand{\\si}{\\sigma}$\n",
    "$\\newcommand{\\al}{\\alpha}$\n",
    "$\\newcommand{\\la}{\\lambda}$\n",
    "$\\newcommand{\\ga}{\\gamma}$\n",
    "$\\newcommand{\\Ga}{\\Gamma}$\n",
    "$\\newcommand{\\La}{\\Lambda}$\n",
    "$\\newcommand{\\si}{\\sigma}$\n",
    "$\\newcommand{\\Si}{\\Sigma}$\n",
    "$\\newcommand{\\be}{\\beta}$\n",
    "$\\newcommand{\\de}{\\delta}$\n",
    "$\\newcommand{\\De}{\\Delta}$\n",
    "$\\newcommand{\\phi}{\\varphi}$\n",
    "$\\newcommand{\\th}{\\theta}$\n",
    "$\\newcommand{\\om}{\\omega}$\n",
    "$\\newcommand{\\Om}{\\Omega}$\n"
   ]
  },
  {
   "cell_type": "markdown",
   "metadata": {
    "deletable": true,
    "editable": true
   },
   "source": [
    "This numerical tours details the implementations\n",
    "of Dijkstra and Fast Marching algorithms in 2-D.\n",
    "\n",
    "\n",
    "The implementation are performed in Matlab, and are hence quite slow."
   ]
  },
  {
   "cell_type": "code",
   "execution_count": 41,
   "metadata": {
    "collapsed": false,
    "deletable": true,
    "editable": true
   },
   "outputs": [],
   "source": [
    "options(warn=-1) # turns off warnings, to turn on: \"options(warn=0)\"\n",
    "\n",
    "\n",
    "library(imager)\n",
    "library(png)\n",
    "\n",
    "for (f in list.files(path=\"nt_toolbox/toolbox_general/\", pattern=\"*.R\")) {\n",
    "    source(paste(\"nt_toolbox/toolbox_general/\", f, sep=\"\"))\n",
    "}\n",
    "\n",
    "for (f in list.files(path=\"nt_toolbox/toolbox_signal/\", pattern=\"*.R\")) {\n",
    "    source(paste(\"nt_toolbox/toolbox_signal/\", f, sep=\"\"))\n",
    "}\n",
    "\n",
    "source(\"nt_toolbox/toolbox_wavelet_meshes/meshgrid.R\")\n",
    "\n",
    "source(\"nt_toolbox/toolbox_graph/perform_dijstra_fm.R\")\n",
    "\n",
    "options(repr.plot.width=3.5, repr.plot.height=3.5)"
   ]
  },
  {
   "cell_type": "markdown",
   "metadata": {
    "deletable": true,
    "editable": true
   },
   "source": [
    "Installation\n",
    "------------\n",
    "*Important:* Please read the [installation page](http://gpeyre.github.io/numerical-tours/installation_python/) for details about how to install the toolboxes."
   ]
  },
  {
   "cell_type": "markdown",
   "metadata": {
    "deletable": true,
    "editable": true
   },
   "source": [
    "Navigating on the Grid\n",
    "----------------------\n",
    "We use a cartesian grid of size $n \\times n$, and defines operators to navigate in the grid.\n",
    "\n",
    "\n",
    "We use a singe index $i \\in \\{1,\\ldots,n^2\\}$ to index a position on\n",
    "the 2-D grid.\n",
    "\n",
    "\n",
    "Size of the grid."
   ]
  },
  {
   "cell_type": "code",
   "execution_count": 2,
   "metadata": {
    "collapsed": true,
    "deletable": true,
    "editable": true
   },
   "outputs": [],
   "source": [
    "n <- 40"
   ]
  },
  {
   "cell_type": "markdown",
   "metadata": {
    "deletable": true,
    "editable": true
   },
   "source": [
    "The four displacement vector to go to the four neightbors."
   ]
  },
  {
   "cell_type": "code",
   "execution_count": 3,
   "metadata": {
    "collapsed": false,
    "deletable": true,
    "editable": true
   },
   "outputs": [],
   "source": [
    "neigh <- array(c(1, 0, -1, 0, 0, 1, 0, -1), c(2,4))"
   ]
  },
  {
   "cell_type": "markdown",
   "metadata": {
    "deletable": true,
    "editable": true
   },
   "source": [
    "For simplicity of implementation, we use periodic boundary conditions."
   ]
  },
  {
   "cell_type": "code",
   "execution_count": 4,
   "metadata": {
    "collapsed": false,
    "deletable": true,
    "editable": true
   },
   "outputs": [],
   "source": [
    "boundary <- function(x){ mod(x,n) }"
   ]
  },
  {
   "cell_type": "markdown",
   "metadata": {
    "deletable": true,
    "editable": true
   },
   "source": [
    "For a given grid index |k|, and a given neighboring index k in ${1,2,3,4}$,\n",
    "|Neigh(k,i)| gives the corresponding grid neighboring index."
   ]
  },
  {
   "cell_type": "code",
   "execution_count": 5,
   "metadata": {
    "collapsed": true,
    "deletable": true,
    "editable": true
   },
   "outputs": [],
   "source": [
    "ind2sub1 <- function(k){ c(as.integer( (k-1-mod(k-1,n))/n + 1 ), mod(k-1,n) + 1) }\n",
    "sub2ind1 <- function(u){ as.integer( (u[1]-1)*n + (u[2]-1) + 1 ) }\n",
    "Neigh <- function(k,i){ sub2ind1(boundary(ind2sub1(k) + neigh[,i])) }"
   ]
  },
  {
   "cell_type": "markdown",
   "metadata": {
    "deletable": true,
    "editable": true
   },
   "source": [
    "Check that these functions are indeed bijections."
   ]
  },
  {
   "cell_type": "code",
   "execution_count": 6,
   "metadata": {
    "collapsed": false,
    "deletable": true,
    "editable": true
   },
   "outputs": [
    {
     "name": "stdout",
     "output_type": "stream",
     "text": [
      "[1] 13 27\n",
      "[1] 134\n"
     ]
    }
   ],
   "source": [
    "print( ind2sub1( sub2ind1(c(13, 27)) ) )\n",
    "print( sub2ind1( ind2sub1(134) ) )"
   ]
  },
  {
   "cell_type": "markdown",
   "metadata": {
    "deletable": true,
    "editable": true
   },
   "source": [
    "Dikstra Algorithm\n",
    "-----------------\n",
    "The Dijkstra algorithm compute the geodesic distance on a graph.\n",
    "We use here a graph whose nodes are the pixels, and whose edges defines the\n",
    "usual 4-connectity relationship.\n",
    "\n",
    "\n",
    "In the following, we use the notation $i \\sim j$ to indicate that an\n",
    "index $j$ is a neighbor of $i$ on the graph defined by the discrete\n",
    "grid.\n",
    "\n",
    "\n",
    "The metric $W(x)$. We use here a constant metric."
   ]
  },
  {
   "cell_type": "code",
   "execution_count": 7,
   "metadata": {
    "collapsed": true,
    "deletable": true,
    "editable": true
   },
   "outputs": [],
   "source": [
    "W <- array(1, c(n,n))"
   ]
  },
  {
   "cell_type": "markdown",
   "metadata": {
    "deletable": true,
    "editable": true
   },
   "source": [
    "Set $\\Ss = \\{x_0\\}$ of initial points."
   ]
  },
  {
   "cell_type": "code",
   "execution_count": 8,
   "metadata": {
    "collapsed": true,
    "deletable": true,
    "editable": true
   },
   "outputs": [],
   "source": [
    "x0 <- c(n/2 + 1 , n/2 + 1)"
   ]
  },
  {
   "cell_type": "markdown",
   "metadata": {
    "deletable": true,
    "editable": true
   },
   "source": [
    "Initialize the stack of available indexes."
   ]
  },
  {
   "cell_type": "code",
   "execution_count": 9,
   "metadata": {
    "collapsed": true,
    "deletable": true,
    "editable": true
   },
   "outputs": [],
   "source": [
    "I <- c(sub2ind1(x0))"
   ]
  },
  {
   "cell_type": "markdown",
   "metadata": {
    "deletable": true,
    "editable": true
   },
   "source": [
    "Initialize the distance to $+\\infty$, excepted for the boundary conditions."
   ]
  },
  {
   "cell_type": "code",
   "execution_count": 10,
   "metadata": {
    "collapsed": true,
    "deletable": true,
    "editable": true
   },
   "outputs": [],
   "source": [
    "D <- array(1, c(n,n)) + Inf\n",
    "u <- ind2sub1(I)\n",
    "D[u[1],u[2]] <- 0"
   ]
  },
  {
   "cell_type": "markdown",
   "metadata": {
    "deletable": true,
    "editable": true
   },
   "source": [
    "Initialize the state to 0 (unexplored), excepted for the boundary point $\\Ss$ (indexed by |I|)\n",
    "to $1$ (front)."
   ]
  },
  {
   "cell_type": "code",
   "execution_count": 11,
   "metadata": {
    "collapsed": true,
    "deletable": true,
    "editable": true
   },
   "outputs": [],
   "source": [
    "S <- array(0, c(n,n))\n",
    "S[u[1],u[2]] <- 1"
   ]
  },
  {
   "cell_type": "markdown",
   "metadata": {
    "deletable": true,
    "editable": true
   },
   "source": [
    "Define a callbabk to use a 1-D indexing on a 2-D array."
   ]
  },
  {
   "cell_type": "code",
   "execution_count": 12,
   "metadata": {
    "collapsed": true,
    "deletable": true,
    "editable": true
   },
   "outputs": [],
   "source": [
    "extract   <- function(x,I){ x[I] }\n",
    "extract1d <- function(x,I){ extract(as.vector(t(x)),I) }"
   ]
  },
  {
   "cell_type": "markdown",
   "metadata": {
    "deletable": true,
    "editable": true
   },
   "source": [
    "The first step of each iteration of the method is\n",
    "to pop the from stack the element $i$ with smallest current distance $D_i$."
   ]
  },
  {
   "cell_type": "code",
   "execution_count": 13,
   "metadata": {
    "collapsed": false,
    "deletable": true,
    "editable": true
   },
   "outputs": [],
   "source": [
    "j <- order( extract1d(D,I)  )\n",
    "j <- j[1]\n",
    "i <- I[j]       \n",
    "a <-  I[j]\n",
    "I <- I[-c(j)]"
   ]
  },
  {
   "cell_type": "markdown",
   "metadata": {
    "deletable": true,
    "editable": true
   },
   "source": [
    "We update its state $S$ to be dead (-1)."
   ]
  },
  {
   "cell_type": "code",
   "execution_count": 14,
   "metadata": {
    "collapsed": true,
    "deletable": true,
    "editable": true
   },
   "outputs": [],
   "source": [
    "u <- ind2sub1(i)\n",
    "S[u[1],u[2]] <- -1"
   ]
  },
  {
   "cell_type": "markdown",
   "metadata": {
    "deletable": true,
    "editable": true
   },
   "source": [
    "Retrieve the list of the neighbors that are not dead and add to I those that are not yet in it."
   ]
  },
  {
   "cell_type": "code",
   "execution_count": 15,
   "metadata": {
    "collapsed": false,
    "deletable": true,
    "editable": true
   },
   "outputs": [],
   "source": [
    "J <- c()\n",
    "for (k in 1:4){\n",
    "    j <- Neigh(i,k)\n",
    "    if ( extract1d(S,j)!=-1 ){\n",
    "        # add to the list of point to update\n",
    "        J <- c(J, j) \n",
    "        if ( extract1d(S,j)==0 ){\n",
    "            # add to the front\n",
    "            u <- ind2sub1(j)\n",
    "            S[u[1],u[2]] <- 1\n",
    "            I <- c(I, j)\n",
    "        }\n",
    "    }\n",
    "}"
   ]
  },
  {
   "cell_type": "code",
   "execution_count": 16,
   "metadata": {
    "collapsed": false,
    "deletable": true,
    "editable": true
   },
   "outputs": [
    {
     "data": {
      "image/png": "[encoded data removed]",
      "text/plain": [
       "Plot with title \"\""
      ]
     },
     "metadata": {},
     "output_type": "display_data"
    }
   ],
   "source": [
    "imageplot(S)"
   ]
  },
  {
   "cell_type": "markdown",
   "metadata": {
    "deletable": true,
    "editable": true
   },
   "source": [
    "Update neighbor values.\n",
    "For each neightbo $j$ of $i$, perform the update,\n",
    "assuming the length of the edge between $j$ and $k$ is $W_j$.\n",
    "$$ D_j \\leftarrow \\umin{k \\sim j} D_k + W_j. $$"
   ]
  },
  {
   "cell_type": "code",
   "execution_count": 17,
   "metadata": {
    "collapsed": true,
    "deletable": true,
    "editable": true
   },
   "outputs": [],
   "source": [
    "DNeigh <- function(D,k){ extract1d(D,Neigh(j,k)) }\n",
    "for (j in J){\n",
    "    dx <- min(DNeigh(D,1), DNeigh(D,2))\n",
    "    dy <- min(DNeigh(D,3), DNeigh(D,4))\n",
    "    u <- ind2sub1(j)\n",
    "    w <- extract1d(W,j);\n",
    "    D[u[1],u[2]] <- min(dx + w, dy + w)\n",
    "}"
   ]
  },
  {
   "cell_type": "markdown",
   "metadata": {
    "deletable": true,
    "editable": true
   },
   "source": [
    "__Exercise 1__\n",
    "\n",
    "Implement the Dijkstra algorithm by iterating these step while the\n",
    "stack |I| is non empty.\n",
    "Display from time to time the front that propagates."
   ]
  },
  {
   "cell_type": "code",
   "execution_count": 18,
   "metadata": {
    "collapsed": false,
    "deletable": true,
    "editable": true
   },
   "outputs": [
    {
     "data": {
      "image/png": "[encoded data removed]",
      "text/plain": [
       "Plot with title \"\""
      ]
     },
     "metadata": {},
     "output_type": "display_data"
    }
   ],
   "source": [
    "options(repr.plot.width=5, repr.plot.height=5)\n",
    "\n",
    "source(\"nt_solutions/fastmarching_0_implementing/exo1.R\")\n",
    "D <- exo1(x0,W)"
   ]
  },
  {
   "cell_type": "code",
   "execution_count": 19,
   "metadata": {
    "collapsed": true,
    "deletable": true,
    "editable": true
   },
   "outputs": [],
   "source": [
    "## Insert your code here."
   ]
  },
  {
   "cell_type": "markdown",
   "metadata": {
    "deletable": true,
    "editable": true
   },
   "source": [
    "Display the geodesic distance map using a cosine modulation to make the\n",
    "level set appears more clearly."
   ]
  },
  {
   "cell_type": "code",
   "execution_count": 20,
   "metadata": {
    "collapsed": false,
    "deletable": true,
    "editable": true
   },
   "outputs": [
    {
     "data": {
      "image/png": "[encoded data removed]",
      "text/plain": [
       "Plot with title \"\""
      ]
     },
     "metadata": {},
     "output_type": "display_data"
    }
   ],
   "source": [
    "displ <- function(D){ cos(2*pi*5*D/max(D) ) }\n",
    "\n",
    "# color map function\n",
    "cmap_jet <- function(v){ return( rgb(v, (sin(v*2*pi)+1)/2, (cos(v*2*pi)+1)/2) ) }\n",
    "\n",
    "options(repr.plot.width=3.5, repr.plot.height=3.5)\n",
    "\n",
    "plot(as.cimg(displ(D)), colourscale=cmap_jet, interpolate = FALSE, axes = FALSE)"
   ]
  },
  {
   "cell_type": "markdown",
   "metadata": {
    "collapsed": true,
    "deletable": true,
    "editable": true
   },
   "source": [
    "Fast Marching\n",
    "-------------\n",
    "The Dijstra algorithm suffers from a strong metrization problem, and it\n",
    "actually computes the $\\ell^1$ distance on the grid.\n",
    "\n",
    "\n",
    "The Fast Marching algorithm replace the graph update by a local\n",
    "resolution of the Eikonal equation. This reduces significantly the grid\n",
    "bias, and can be shown to converge to the underlying geodesic distance\n",
    "when the grid step size tends to zero.\n",
    "\n",
    "\n",
    "Over a continuous domain, the distance map $D(x)$ to a set of seed\n",
    "points $ \\Ss $ is the unique solution in the viscosity sense\n",
    "$$ \\forall x \\notin \\Ss, \\quad \\norm{\\nabla D(x)} = W(x)\n",
    "      \\qandq\n",
    "    \\forall y \\in \\Ss, \\quad D(y) = 0. $$\n",
    "\n",
    "\n",
    "The equation is then discretized on a grid of $n \\times n$ pixel, and a\n",
    "solution $ (D_{k,\\ell})_{k,\\ell=1}^n \\in \\RR^{n \\times n} $ is found by using\n",
    "an upwind finite difference approximation, that is faithful to the\n",
    "viscosity solution\n",
    "$$ \\forall (k,\\ell) \\notin \\tilde \\Ss,  \\quad\n",
    "     \\norm{ (\\nabla D)_{k,\\ell} } = W_{k,\\ell}$\n",
    "  \\qandq\n",
    "  \\forall (k,\\ell) \\notin \\tilde \\Ss, \\quad D_{k,\\ell}=0,\n",
    "$$\n",
    "where $\\tilde \\Ss$ is the set of discrete starting points (defined here\n",
    "by |x0|).\n",
    "\n",
    "\n",
    "To be consisten with the viscosity solution, one needs to use a\n",
    "non-linear upwind gradient derivative. This corresponds to computing\n",
    "the norm of the gradient as\n",
    "$$ \\norm{ (\\nabla D)_{k,\\ell} }^2 =\n",
    "      \\max( D_{k+1,\\ell}-D_{k,\\ell}, D_{k-1,\\ell}-D_{k,\\ell}, 0 )^2 +\n",
    "      \\max( D_{k,\\ell+1}-D_{k,\\ell}, D_{k,\\ell-1}-D_{k,\\ell}, 0 )^2.\n",
    "$$\n",
    "\n",
    "\n",
    "A each step of the FM propagation, one update $ D_{k,\\ell} \\leftarrow d $\n",
    "by solving the eikonal equation with respect to $D_{k,\\ell}$ alone.\n",
    "This is equivalent to solving the quadratic equation\n",
    "$$ (d-d_x)^2 + (d-d_y)^2 = w^2 \\qwhereq w=W_{k,\\ell}. $$\n",
    "and where\n",
    "$$ d_x = \\min(D_{k+1,\\ell},D_{k-1,\\ell}) \\qandq\n",
    "   d_y = \\min(D_{k,\\ell+1},D_{k,\\ell-1}). $$\n",
    "\n",
    "\n",
    "The update is thus defined as\n",
    "$$\n",
    "      d = \\choice{\n",
    "          \\frac{d_x+d_y+ \\sqrt{\\De}}{2} \\quad\\text{when}\\quad \\De \\geq 0, \\\\\n",
    "          \\min(d_x,d_y)+w \\quad \\text{otherwise.}$\n",
    "      }$\n",
    "      \\qwhereq\n",
    "      \\De = 2 w^2 - (d_x-d_y)^2.\n",
    "$$\n",
    "\n",
    "\n",
    "Note that in the case where $\\De<0$, one has to use the Dijkstra\n",
    "update.\n",
    "\n",
    "\n",
    "Once the Dijstra algorithm is implemented, the implementation of the Fast\n",
    "Marching is trivial. It just corresponds to replacing the graph udpate"
   ]
  },
  {
   "cell_type": "code",
   "execution_count": 21,
   "metadata": {
    "collapsed": true,
    "deletable": true,
    "editable": true
   },
   "outputs": [],
   "source": [
    "D[u[1],u[2]] <- min(dx + w, dy + w)"
   ]
  },
  {
   "cell_type": "markdown",
   "metadata": {
    "deletable": true,
    "editable": true
   },
   "source": [
    "by the eikonal update."
   ]
  },
  {
   "cell_type": "code",
   "execution_count": 22,
   "metadata": {
    "collapsed": false,
    "deletable": true,
    "editable": true
   },
   "outputs": [],
   "source": [
    "Delta <- 2*w - (dx-dy)**2\n",
    "if (Delta>=0){\n",
    "    D[u[1],u[2]] <- (dx + dy + sqrt(Delta))/ 2 }  \n",
    "if (Delta<0){\n",
    "    D[u[1],u[2]] <- min(dx + w, dy + w) }"
   ]
  },
  {
   "cell_type": "markdown",
   "metadata": {
    "deletable": true,
    "editable": true
   },
   "source": [
    "__Exercise 2__\n",
    "\n",
    "Implement the Fast Marching algorithm.\n",
    "Display from time to time the front that propagates."
   ]
  },
  {
   "cell_type": "code",
   "execution_count": 23,
   "metadata": {
    "collapsed": false,
    "deletable": true,
    "editable": true
   },
   "outputs": [
    {
     "data": {
      "image/png": "[encoded data removed]",
      "text/plain": [
       "Plot with title \"\""
      ]
     },
     "metadata": {},
     "output_type": "display_data"
    }
   ],
   "source": [
    "options(repr.plot.width=5, repr.plot.height=5)\n",
    "\n",
    "source(\"nt_solutions/fastmarching_0_implementing/exo2.R\")\n",
    "D <- exo2(x0,W)"
   ]
  },
  {
   "cell_type": "code",
   "execution_count": 24,
   "metadata": {
    "collapsed": true,
    "deletable": true,
    "editable": true
   },
   "outputs": [],
   "source": [
    "## Insert your code here."
   ]
  },
  {
   "cell_type": "markdown",
   "metadata": {
    "deletable": true,
    "editable": true
   },
   "source": [
    "Display the geodesic distance map using a cosine modulation to make the\n",
    "level set appears more clearly."
   ]
  },
  {
   "cell_type": "code",
   "execution_count": 25,
   "metadata": {
    "collapsed": false,
    "deletable": true,
    "editable": true
   },
   "outputs": [
    {
     "data": {
      "image/png": "[encoded data removed]",
      "text/plain": [
       "Plot with title \"\""
      ]
     },
     "metadata": {},
     "output_type": "display_data"
    }
   ],
   "source": [
    "options(repr.plot.width=3.5, repr.plot.height=3.5)\n",
    "\n",
    "plot(as.cimg(displ(D)), colourscale=cmap_jet, interpolate = FALSE, axes = FALSE)"
   ]
  },
  {
   "cell_type": "markdown",
   "metadata": {
    "deletable": true,
    "editable": true
   },
   "source": [
    "Computation of Geodesic Paths\n",
    "-----------------------------\n",
    "We use a more complicated, non-constant metric, with a bump in the\n",
    "middle."
   ]
  },
  {
   "cell_type": "code",
   "execution_count": 26,
   "metadata": {
    "collapsed": true,
    "deletable": true,
    "editable": true
   },
   "outputs": [],
   "source": [
    "n <- 100\n",
    "x <- seq(-1, 1, length=n)\n",
    "grid <- meshgrid_2d(x, x)\n",
    "Y <- grid$X ; X <- grid$Y\n",
    "sigma <- 0.2\n",
    "W <- 1 + 8 * exp(-(X**2 + Y**2)/ (2*sigma**2))"
   ]
  },
  {
   "cell_type": "markdown",
   "metadata": {
    "deletable": true,
    "editable": true
   },
   "source": [
    "Display it."
   ]
  },
  {
   "cell_type": "code",
   "execution_count": 27,
   "metadata": {
    "collapsed": false,
    "deletable": true,
    "editable": true
   },
   "outputs": [
    {
     "data": {
      "image/png": "[encoded data removed]",
      "text/plain": [
       "Plot with title \"\""
      ]
     },
     "metadata": {},
     "output_type": "display_data"
    }
   ],
   "source": [
    "imageplot(W)"
   ]
  },
  {
   "cell_type": "markdown",
   "metadata": {
    "deletable": true,
    "editable": true
   },
   "source": [
    "Starting points."
   ]
  },
  {
   "cell_type": "code",
   "execution_count": 28,
   "metadata": {
    "collapsed": true,
    "deletable": true,
    "editable": true
   },
   "outputs": [],
   "source": [
    "x0 <- c(round(.1*n)+1, round(.1*n)+1)"
   ]
  },
  {
   "cell_type": "markdown",
   "metadata": {
    "deletable": true,
    "editable": true
   },
   "source": [
    "__Exercise 3:__ \n",
    "\n",
    "Compute the distance map to these starting point using the FM algorithm. _Important:_ use symetric boundary conditions."
   ]
  },
  {
   "cell_type": "code",
   "execution_count": 29,
   "metadata": {
    "collapsed": false,
    "deletable": true,
    "editable": true
   },
   "outputs": [
    {
     "data": {
      "image/png": "[encoded data removed]",
      "text/plain": [
       "Plot with title \"\""
      ]
     },
     "metadata": {},
     "output_type": "display_data"
    }
   ],
   "source": [
    "options(repr.plot.width=3.5, repr.plot.height=3.5)\n",
    "\n",
    "source(\"nt_solutions/fastmarching_0_implementing/exo3.R\")\n",
    "D <- exo3(x0,W)"
   ]
  },
  {
   "cell_type": "code",
   "execution_count": 30,
   "metadata": {
    "collapsed": true,
    "deletable": true,
    "editable": true
   },
   "outputs": [],
   "source": [
    "## Insert your code here."
   ]
  },
  {
   "cell_type": "markdown",
   "metadata": {
    "deletable": true,
    "editable": true
   },
   "source": [
    "Once the geodesic distance map to $\\Ss$\n",
    "has been computed, the geodesic curve between any point $x_1$ and $\\Ss$\n",
    "extracted through gradient descent\n",
    "$$ \\ga'(t) = - \\eta_t \\nabla D(\\ga(t)) \\qandq \\ga(0)=x_1 $$\n",
    "where $\\eta_t>0$ controls the parameterization speed of the resulting\n",
    "curve.\n",
    "\n",
    "\n",
    "To obtain unit speed parameterization, one can use $\\eta_t =\n",
    "\\norm{\\nabla D(\\ga(t))}^{-1}$ (one need to be careful when\n",
    "$\\ga$ approaches $\\Ss$ since $D$ is not smooth on $\\Ss$).\n",
    "\n",
    "\n",
    "Compute the gradient $G_0(x) = \\nabla D(x) \\in \\RR^2$ of the distance map.\n",
    "Use centered differences."
   ]
  },
  {
   "cell_type": "code",
   "execution_count": 31,
   "metadata": {
    "collapsed": true,
    "deletable": true,
    "editable": true
   },
   "outputs": [],
   "source": [
    "G0 <- grad(D)"
   ]
  },
  {
   "cell_type": "markdown",
   "metadata": {
    "deletable": true,
    "editable": true
   },
   "source": [
    "Normalize the gradient to obtained $G(x) = G_0(x)/\\norm{G_0(x)}$, in order to have unit speed geodesic curve (parameterized\n",
    "by arc length)."
   ]
  },
  {
   "cell_type": "code",
   "execution_count": 32,
   "metadata": {
    "collapsed": true,
    "deletable": true,
    "editable": true
   },
   "outputs": [],
   "source": [
    "d <- sqrt(apply(G0**2, c(1,2), sum))\n",
    "U <- array(0, c(n,n,2))\n",
    "U[,,1] <- d\n",
    "U[,,2] <- d\n",
    "G <- G0 / U"
   ]
  },
  {
   "cell_type": "markdown",
   "metadata": {
    "deletable": true,
    "editable": true
   },
   "source": [
    "The geodesic is then numerically computed using a discretized gradient\n",
    "descent, which defines a discret curve $ (\\ga_k)_k $ using\n",
    "$$ \\ga_{k+1} = \\ga_k - \\tau G(\\ga_k) $$\n",
    "where $\\ga_k \\in \\RR^2$ is an approximation of $\\ga(t)$ at time\n",
    "$t=k\\tau$, and the step size $\\tau>0$ should be small enough.\n",
    "\n",
    "\n",
    "Step size $\\tau$ for the gradient descent."
   ]
  },
  {
   "cell_type": "code",
   "execution_count": 33,
   "metadata": {
    "collapsed": true,
    "deletable": true,
    "editable": true
   },
   "outputs": [],
   "source": [
    "tau <- .8"
   ]
  },
  {
   "cell_type": "markdown",
   "metadata": {
    "deletable": true,
    "editable": true
   },
   "source": [
    "Initialize the path with the ending point."
   ]
  },
  {
   "cell_type": "code",
   "execution_count": 34,
   "metadata": {
    "collapsed": true,
    "deletable": true,
    "editable": true
   },
   "outputs": [],
   "source": [
    "x1 <- round(.9*n) + 1i*round(.88*n)\n",
    "gamma <- c(x1)"
   ]
  },
  {
   "cell_type": "markdown",
   "metadata": {
    "deletable": true,
    "editable": true
   },
   "source": [
    "Define a shortcut to interpolate $G$ at a 2-D points.\n",
    "_Warning:_ the |interp2| switches the role of the axis ..."
   ]
  },
  {
   "cell_type": "code",
   "execution_count": 35,
   "metadata": {
    "collapsed": true,
    "deletable": true,
    "editable": true
   },
   "outputs": [],
   "source": [
    "Geval <- function(G,x){ bilinear_interpolate(G[,,1], Im(x), Re(x) ) + 1i * bilinear_interpolate(G[,,2],Im(x), Re(x)) }"
   ]
  },
  {
   "cell_type": "markdown",
   "metadata": {
    "deletable": true,
    "editable": true
   },
   "source": [
    "Compute the gradient at the last point in the path, using interpolation."
   ]
  },
  {
   "cell_type": "code",
   "execution_count": 36,
   "metadata": {
    "collapsed": true,
    "deletable": true,
    "editable": true
   },
   "outputs": [],
   "source": [
    "g <- Geval(G, gamma[length(gamma)])"
   ]
  },
  {
   "cell_type": "markdown",
   "metadata": {
    "deletable": true,
    "editable": true
   },
   "source": [
    "Perform the descent and add the new point to the path."
   ]
  },
  {
   "cell_type": "code",
   "execution_count": 37,
   "metadata": {
    "collapsed": true,
    "deletable": true,
    "editable": true
   },
   "outputs": [],
   "source": [
    "gamma <- c(gamma, gamma[length(gamma)] - tau*g)"
   ]
  },
  {
   "cell_type": "markdown",
   "metadata": {
    "deletable": true,
    "editable": true
   },
   "source": [
    "__Exercise 4__\n",
    "\n",
    "Perform the full geodesic path extraction by iterating the gradient\n",
    "descent. You must be very careful when the path become close to\n",
    "$x_0$, because the distance function is not differentiable at this\n",
    "point. You must stop the iteration when the path is close to $x_0$."
   ]
  },
  {
   "cell_type": "code",
   "execution_count": 38,
   "metadata": {
    "collapsed": true,
    "deletable": true,
    "editable": true
   },
   "outputs": [],
   "source": [
    "source(\"nt_solutions/fastmarching_0_implementing/exo4.R\")\n",
    "gamma <- exo4(tau,x0,x1,G)"
   ]
  },
  {
   "cell_type": "code",
   "execution_count": 39,
   "metadata": {
    "collapsed": false,
    "deletable": true,
    "editable": true
   },
   "outputs": [],
   "source": [
    "## Insert your code here."
   ]
  },
  {
   "cell_type": "markdown",
   "metadata": {
    "deletable": true,
    "editable": true
   },
   "source": [
    "Display the geodesic curve."
   ]
  },
  {
   "cell_type": "code",
   "execution_count": 40,
   "metadata": {
    "collapsed": false,
    "deletable": true,
    "editable": true
   },
   "outputs": [
    {
     "data": {
      "image/png": "[encoded data removed]",
      "text/plain": [
       "Plot with title \"\""
      ]
     },
     "metadata": {},
     "output_type": "display_data"
    }
   ],
   "source": [
    "imageplot(W)\n",
    "lines(Im(gamma), Re(gamma), col=\"blue\", lwd=3)\n",
    "points(x0[2], x0[1], col=\"red\", pch=19, lwd=4)\n",
    "points(Im(x1), Re(x1), col=\"green\", pch=19, lwd=4)"
   ]
  },
  {
   "cell_type": "raw",
   "metadata": {
    "deletable": true,
    "editable": true
   },
   "source": [
    "<script>\n",
    "  $(document).ready(function(){\n",
    "      $('div.prompt').hide();\n",
    "  });\n",
    "</script>"
   ]
  }
 ],
 "metadata": {
  "anaconda-cloud": {},
  "kernelspec": {
   "display_name": "R",
   "language": "R",
   "name": "ir"
  },
  "language_info": {
   "codemirror_mode": "r",
   "file_extension": ".r",
   "mimetype": "text/x-r-source",
   "name": "R",
   "pygments_lexer": "r",
   "version": "3.4.3"
  }
 },
 "nbformat": 4,
 "nbformat_minor": 1
}
